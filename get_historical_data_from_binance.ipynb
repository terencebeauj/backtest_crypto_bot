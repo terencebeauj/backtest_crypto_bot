{
 "cells": [
  {
   "cell_type": "code",
   "execution_count": 1,
   "metadata": {},
   "outputs": [],
   "source": [
    "from binance.client import Client\n",
    "import pandas as pd\n",
    "from datetime import datetime"
   ]
  },
  {
   "cell_type": "code",
   "execution_count": 2,
   "metadata": {},
   "outputs": [],
   "source": [
    "public_key = \"...\"\n",
    "secret_key = \"...\"\n",
    "\n",
    "client = Client(public_key,\n",
    "                secret_key)"
   ]
  },
  {
   "cell_type": "code",
   "execution_count": 3,
   "metadata": {},
   "outputs": [],
   "source": [
    "klines = client.get_historical_klines(\"BTCUSDT\", Client.KLINE_INTERVAL_15MINUTE, \"1 Jan, 2020\", \"1 Jan, 2021\")"
   ]
  },
  {
   "cell_type": "code",
   "execution_count": 4,
   "metadata": {},
   "outputs": [],
   "source": [
    "d = []\n",
    "for i in range(len(klines)):\n",
    "    d.append({\"Opentime\": klines[i][0],\n",
    "              \"Open\": klines[i][1],\n",
    "              \"High\": klines[i][2],\n",
    "              \"Low\": klines[i][3],\n",
    "              \"Close\": klines[i][4],\n",
    "              \"BaseVolume\": klines[i][5],\n",
    "              \"QuoteVolume\": klines[i][7]})\n",
    "\n",
    "candles = pd.DataFrame(d)"
   ]
  },
  {
   "cell_type": "code",
   "execution_count": 5,
   "metadata": {},
   "outputs": [],
   "source": [
    "from datetime import datetime\n",
    "\n",
    "timestamp = 1606779900000/1000\n",
    "dt_object = datetime.fromtimestamp(timestamp).strftime('%Y-%m-%d %H:%M:%S')"
   ]
  },
  {
   "cell_type": "code",
   "execution_count": 6,
   "metadata": {},
   "outputs": [
    {
     "name": "stderr",
     "output_type": "stream",
     "text": [
      "C:\\Users\\Beauj\\git_projects\\backtest_crypto_bot\\env\\lib\\site-packages\\pandas\\core\\indexing.py:1636: SettingWithCopyWarning: \n",
      "A value is trying to be set on a copy of a slice from a DataFrame\n",
      "\n",
      "See the caveats in the documentation: https://pandas.pydata.org/pandas-docs/stable/user_guide/indexing.html#returning-a-view-versus-a-copy\n",
      "  self._setitem_single_block(indexer, value, name)\n"
     ]
    },
    {
     "data": {
      "text/html": [
       "<div>\n",
       "<style scoped>\n",
       "    .dataframe tbody tr th:only-of-type {\n",
       "        vertical-align: middle;\n",
       "    }\n",
       "\n",
       "    .dataframe tbody tr th {\n",
       "        vertical-align: top;\n",
       "    }\n",
       "\n",
       "    .dataframe thead th {\n",
       "        text-align: right;\n",
       "    }\n",
       "</style>\n",
       "<table border=\"1\" class=\"dataframe\">\n",
       "  <thead>\n",
       "    <tr style=\"text-align: right;\">\n",
       "      <th></th>\n",
       "      <th>Opentime</th>\n",
       "      <th>Open</th>\n",
       "      <th>High</th>\n",
       "      <th>Low</th>\n",
       "      <th>Close</th>\n",
       "      <th>BaseVolume</th>\n",
       "      <th>QuoteVolume</th>\n",
       "    </tr>\n",
       "  </thead>\n",
       "  <tbody>\n",
       "    <tr>\n",
       "      <th>0</th>\n",
       "      <td>2019-12-31 19:00:00</td>\n",
       "      <td>7195.24</td>\n",
       "      <td>7196.25</td>\n",
       "      <td>7178.20</td>\n",
       "      <td>7180.97</td>\n",
       "      <td>202.942868</td>\n",
       "      <td>1458244.89963462</td>\n",
       "    </tr>\n",
       "    <tr>\n",
       "      <th>1</th>\n",
       "      <td>2019-12-31 19:15:00</td>\n",
       "      <td>7180.97</td>\n",
       "      <td>7186.40</td>\n",
       "      <td>7175.47</td>\n",
       "      <td>7178.45</td>\n",
       "      <td>128.242654</td>\n",
       "      <td>920702.74707886</td>\n",
       "    </tr>\n",
       "    <tr>\n",
       "      <th>2</th>\n",
       "      <td>2019-12-31 19:30:00</td>\n",
       "      <td>7178.19</td>\n",
       "      <td>7185.44</td>\n",
       "      <td>7176.23</td>\n",
       "      <td>7179.56</td>\n",
       "      <td>83.487458</td>\n",
       "      <td>599479.15280528</td>\n",
       "    </tr>\n",
       "    <tr>\n",
       "      <th>3</th>\n",
       "      <td>2019-12-31 19:45:00</td>\n",
       "      <td>7179.35</td>\n",
       "      <td>7183.98</td>\n",
       "      <td>7175.46</td>\n",
       "      <td>7177.02</td>\n",
       "      <td>97.141921</td>\n",
       "      <td>697429.77996667</td>\n",
       "    </tr>\n",
       "    <tr>\n",
       "      <th>4</th>\n",
       "      <td>2019-12-31 20:00:00</td>\n",
       "      <td>7176.47</td>\n",
       "      <td>7194.04</td>\n",
       "      <td>7175.71</td>\n",
       "      <td>7190.86</td>\n",
       "      <td>103.520522</td>\n",
       "      <td>744089.10404112</td>\n",
       "    </tr>\n",
       "  </tbody>\n",
       "</table>\n",
       "</div>"
      ],
      "text/plain": [
       "              Opentime     Open     High      Low    Close  BaseVolume  \\\n",
       "0  2019-12-31 19:00:00  7195.24  7196.25  7178.20  7180.97  202.942868   \n",
       "1  2019-12-31 19:15:00  7180.97  7186.40  7175.47  7178.45  128.242654   \n",
       "2  2019-12-31 19:30:00  7178.19  7185.44  7176.23  7179.56   83.487458   \n",
       "3  2019-12-31 19:45:00  7179.35  7183.98  7175.46  7177.02   97.141921   \n",
       "4  2019-12-31 20:00:00  7176.47  7194.04  7175.71  7190.86  103.520522   \n",
       "\n",
       "        QuoteVolume  \n",
       "0  1458244.89963462  \n",
       "1   920702.74707886  \n",
       "2   599479.15280528  \n",
       "3   697429.77996667  \n",
       "4   744089.10404112  "
      ]
     },
     "execution_count": 6,
     "metadata": {},
     "output_type": "execute_result"
    }
   ],
   "source": [
    "for i in range(candles.shape[0]):\n",
    "    candles.Opentime.iloc[i] = datetime.fromtimestamp(candles.Opentime.iloc[i]/1000).strftime('%Y-%m-%d %H:%M:%S')\n",
    "candles.head()"
   ]
  },
  {
   "cell_type": "code",
   "execution_count": 7,
   "metadata": {},
   "outputs": [],
   "source": [
    "candles.to_csv(\"datas/BTCUSDT_15m_2020-01-01_2021-01-01.csv\", index = False)"
   ]
  }
 ],
 "metadata": {
  "kernelspec": {
   "display_name": "Python 3",
   "language": "python",
   "name": "python3"
  },
  "language_info": {
   "codemirror_mode": {
    "name": "ipython",
    "version": 3
   },
   "file_extension": ".py",
   "mimetype": "text/x-python",
   "name": "python",
   "nbconvert_exporter": "python",
   "pygments_lexer": "ipython3",
   "version": "3.8.5"
  }
 },
 "nbformat": 4,
 "nbformat_minor": 4
}
